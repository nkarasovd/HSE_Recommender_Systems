{
 "cells": [
  {
   "cell_type": "code",
   "execution_count": 1,
   "id": "short-convert",
   "metadata": {},
   "outputs": [],
   "source": [
    "import multiprocessing\n",
    "import os\n",
    "import warnings\n",
    "from copy import deepcopy\n",
    "from typing import Union\n",
    "\n",
    "import category_encoders as ce\n",
    "import lightgbm as lgb\n",
    "import matplotlib.pyplot as plt\n",
    "import numpy as np\n",
    "import optuna\n",
    "import pandas as pd\n",
    "import shap \n",
    "from gensim.models import Word2Vec\n",
    "from lightgbm import LGBMClassifier\n",
    "from sklearn.metrics import roc_auc_score\n",
    "from sklearn.model_selection import cross_val_score, train_test_split\n",
    "from sklearn.model_selection import StratifiedKFold, KFold\n",
    "from tqdm import tqdm"
   ]
  },
  {
   "cell_type": "code",
   "execution_count": 2,
   "id": "afraid-champagne",
   "metadata": {},
   "outputs": [],
   "source": [
    "%matplotlib inline\n",
    "%config InlineBackend.figure_format ='retina'\n",
    "\n",
    "plt.style.use(\"seaborn\")"
   ]
  },
  {
   "cell_type": "code",
   "execution_count": 3,
   "id": "immediate-purchase",
   "metadata": {},
   "outputs": [],
   "source": [
    "warnings.filterwarnings(\"ignore\")"
   ]
  },
  {
   "cell_type": "code",
   "execution_count": 4,
   "id": "tracked-brand",
   "metadata": {},
   "outputs": [],
   "source": [
    "optuna.logging.set_verbosity(optuna.logging.WARNING)"
   ]
  },
  {
   "cell_type": "markdown",
   "id": "demonstrated-insight",
   "metadata": {},
   "source": [
    "# Task\n",
    "\n",
    "Данные взяты [тут](https://www.kaggle.com/c/kkbox-music-recommendation-challenge/overview).\n",
    "\n",
    "Можете мерять результат по 5-fold evaluation на train-set,  per user auc roc.  \n",
    "\n",
    "**Задача 1:**\n",
    "\n",
    "Собрать более-менее приличную рекомендательную систему с помощью GBDT. Использование трюков из лекции (и не из неё), тюнинг и разумных объемов фича инжиниринг прям нужен. \n",
    "\n",
    "**Задача 2:**\n",
    "\n",
    "Пользуясь информацией о треках построить неклассические эмбеддинги и попробовать использовать их:\n",
    "\n",
    "- показать симилары глазами\n",
    "\n",
    "- в качестве рекоммендера вместо GBDT (разницу в метриках) \n",
    "\n",
    "- стек с GBDT (прирост / отсутствие / почему / SHAP values)\n"
   ]
  },
  {
   "cell_type": "markdown",
   "id": "brown-longitude",
   "metadata": {},
   "source": [
    "# Data preprocessing"
   ]
  },
  {
   "cell_type": "code",
   "execution_count": 5,
   "id": "american-portuguese",
   "metadata": {},
   "outputs": [],
   "source": [
    "data_path = \"./data\"\n",
    "\n",
    "train = pd.read_csv(os.path.join(data_path, \"train.csv\"))\n",
    "songs = pd.read_csv(os.path.join(data_path, \"songs.csv\"))\n",
    "members = pd.read_csv(os.path.join(data_path, \"members.csv\"),\n",
    "                      parse_dates=[\"registration_init_time\", \"expiration_date\"])\n",
    "song_extra_info = pd.read_csv(os.path.join(data_path, \"song_extra_info.csv\"))"
   ]
  },
  {
   "cell_type": "code",
   "execution_count": 6,
   "id": "fancy-review",
   "metadata": {},
   "outputs": [],
   "source": [
    "def print_stat(df: pd.DataFrame):\n",
    "    print(f\"DataFrame shape: {df.shape}\")\n",
    "    \n",
    "    warning, bold, end = \"\\033[93m\", \"\\033[1m\", \"\\033[0m\"\n",
    "    format_len = max(map(len, df.columns)) + 1\n",
    "        \n",
    "    for column in df.columns:\n",
    "        na_ratio = df[column].isna().sum() / df.shape[0]\n",
    "        if na_ratio >= 0.4:\n",
    "            print(f\"{warning}{bold}\\tColumn: {column:>{format_len}}, NA ratio: {round(na_ratio, 3)}{end}\")\n",
    "        else:\n",
    "            print(f\"\\tColumn: {column:>{format_len}}, NA ratio: {round(na_ratio, 3)}\")"
   ]
  },
  {
   "cell_type": "markdown",
   "id": "printable-columbus",
   "metadata": {},
   "source": [
    "## Посмотрим на train"
   ]
  },
  {
   "cell_type": "code",
   "execution_count": 7,
   "id": "nuclear-prophet",
   "metadata": {},
   "outputs": [
    {
     "name": "stdout",
     "output_type": "stream",
     "text": [
      "DataFrame shape: (7377418, 6)\n",
      "\tColumn:                msno, NA ratio: 0.0\n",
      "\tColumn:             song_id, NA ratio: 0.0\n",
      "\tColumn:   source_system_tab, NA ratio: 0.003\n",
      "\tColumn:  source_screen_name, NA ratio: 0.056\n",
      "\tColumn:         source_type, NA ratio: 0.003\n",
      "\tColumn:              target, NA ratio: 0.0\n"
     ]
    }
   ],
   "source": [
    "print_stat(train)"
   ]
  },
  {
   "cell_type": "markdown",
   "id": "previous-service",
   "metadata": {},
   "source": [
    "С точки зрения `NA` значений в `train` нет ничего криминального, число пропусков не превышает `6%` в каждом признаке."
   ]
  },
  {
   "cell_type": "markdown",
   "id": "secret-scheduling",
   "metadata": {},
   "source": [
    "## Посмотрим на songs, members и song_extra_info\n",
    "\n",
    "Добавим их в `train`."
   ]
  },
  {
   "cell_type": "markdown",
   "id": "metallic-baghdad",
   "metadata": {},
   "source": [
    "### songs"
   ]
  },
  {
   "cell_type": "code",
   "execution_count": 8,
   "id": "arbitrary-boring",
   "metadata": {},
   "outputs": [
    {
     "name": "stdout",
     "output_type": "stream",
     "text": [
      "DataFrame shape: (2296320, 7)\n",
      "\tColumn:      song_id, NA ratio: 0.0\n",
      "\tColumn:  song_length, NA ratio: 0.0\n",
      "\tColumn:    genre_ids, NA ratio: 0.041\n",
      "\tColumn:  artist_name, NA ratio: 0.0\n",
      "\u001b[93m\u001b[1m\tColumn:     composer, NA ratio: 0.467\u001b[0m\n",
      "\u001b[93m\u001b[1m\tColumn:     lyricist, NA ratio: 0.847\u001b[0m\n",
      "\tColumn:     language, NA ratio: 0.0\n"
     ]
    }
   ],
   "source": [
    "print_stat(songs)"
   ]
  },
  {
   "cell_type": "markdown",
   "id": "robust-checkout",
   "metadata": {},
   "source": [
    "Так как столбцы `composer` и `lyricist` содержат больше `45%` пропусков, то удалим их. Оставшиеся данные присоединим к `train`."
   ]
  },
  {
   "cell_type": "code",
   "execution_count": 9,
   "id": "advance-arabic",
   "metadata": {},
   "outputs": [],
   "source": [
    "songs = songs.drop(columns=[\"composer\", \"lyricist\"], axis=1)"
   ]
  },
  {
   "cell_type": "code",
   "execution_count": 10,
   "id": "meaningful-vienna",
   "metadata": {},
   "outputs": [],
   "source": [
    "train = train.merge(songs, on=\"song_id\", how=\"left\")"
   ]
  },
  {
   "cell_type": "code",
   "execution_count": 11,
   "id": "welsh-brighton",
   "metadata": {},
   "outputs": [
    {
     "data": {
      "text/plain": [
       "114"
      ]
     },
     "execution_count": 11,
     "metadata": {},
     "output_type": "execute_result"
    }
   ],
   "source": [
    "train['song_length'].isna().sum()"
   ]
  },
  {
   "cell_type": "markdown",
   "id": "ranging-yesterday",
   "metadata": {},
   "source": [
    "Заполним пропуски в столбце `song_length` на среднее значение по столбцу."
   ]
  },
  {
   "cell_type": "code",
   "execution_count": 12,
   "id": "found-converter",
   "metadata": {},
   "outputs": [],
   "source": [
    "train['song_length'].fillna((train['song_length'].mean()), inplace=True)"
   ]
  },
  {
   "cell_type": "markdown",
   "id": "plastic-diagnosis",
   "metadata": {},
   "source": [
    "### members"
   ]
  },
  {
   "cell_type": "code",
   "execution_count": 13,
   "id": "important-philippines",
   "metadata": {},
   "outputs": [
    {
     "name": "stdout",
     "output_type": "stream",
     "text": [
      "DataFrame shape: (34403, 7)\n",
      "\tColumn:                    msno, NA ratio: 0.0\n",
      "\tColumn:                    city, NA ratio: 0.0\n",
      "\tColumn:                      bd, NA ratio: 0.0\n",
      "\u001b[93m\u001b[1m\tColumn:                  gender, NA ratio: 0.578\u001b[0m\n",
      "\tColumn:          registered_via, NA ratio: 0.0\n",
      "\tColumn:  registration_init_time, NA ratio: 0.0\n",
      "\tColumn:         expiration_date, NA ratio: 0.0\n"
     ]
    }
   ],
   "source": [
    "print_stat(members)"
   ]
  },
  {
   "cell_type": "markdown",
   "id": "sexual-cleveland",
   "metadata": {},
   "source": [
    "Столбец `gender` содержит больше `57%` пропусков. Давайте в этот раз не будем удалять такой столбец, а заменим все пропуски на `non-binary`."
   ]
  },
  {
   "cell_type": "code",
   "execution_count": 14,
   "id": "decimal-appendix",
   "metadata": {},
   "outputs": [],
   "source": [
    "members[\"gender\"] = members[\"gender\"].fillna(\"non-binary\")"
   ]
  },
  {
   "cell_type": "markdown",
   "id": "conventional-advancement",
   "metadata": {},
   "source": [
    "Разобьем столбцы `registration_init_time` и `expiration_date` на год, месяц, день, а сами столбцы удалим."
   ]
  },
  {
   "cell_type": "code",
   "execution_count": 15,
   "id": "choice-extraction",
   "metadata": {},
   "outputs": [],
   "source": [
    "members[\"registration_day\"] = members[\"registration_init_time\"].dt.day\n",
    "members[\"registration_month\"] = members[\"registration_init_time\"].dt.month\n",
    "members[\"registration_year\"] = members[\"registration_init_time\"].dt.year\n",
    "\n",
    "members[\"expiration_day\"] = members[\"expiration_date\"].dt.day\n",
    "members[\"expiration_month\"] = members[\"expiration_date\"].dt.month\n",
    "members[\"expiration_year\"] = members[\"expiration_date\"].dt.year\n",
    "\n",
    "members = members.drop(columns=['registration_init_time', 'expiration_date'], axis=1)"
   ]
  },
  {
   "cell_type": "markdown",
   "id": "expressed-outline",
   "metadata": {},
   "source": [
    "Присоединим `members` к `train`."
   ]
  },
  {
   "cell_type": "code",
   "execution_count": 16,
   "id": "instrumental-cylinder",
   "metadata": {},
   "outputs": [],
   "source": [
    "train = train.merge(members, on=\"msno\", how=\"left\")"
   ]
  },
  {
   "cell_type": "markdown",
   "id": "artificial-conspiracy",
   "metadata": {},
   "source": [
    "### song_extra_info"
   ]
  },
  {
   "cell_type": "code",
   "execution_count": 17,
   "id": "square-importance",
   "metadata": {},
   "outputs": [
    {
     "name": "stdout",
     "output_type": "stream",
     "text": [
      "DataFrame shape: (2295971, 3)\n",
      "\tColumn:  song_id, NA ratio: 0.0\n",
      "\tColumn:     name, NA ratio: 0.0\n",
      "\tColumn:     isrc, NA ratio: 0.059\n"
     ]
    }
   ],
   "source": [
    "print_stat(song_extra_info)"
   ]
  },
  {
   "cell_type": "markdown",
   "id": "opening-placement",
   "metadata": {},
   "source": [
    "Столбец `isrc` записан в формате [International Standard Recording Code](https://en.wikipedia.org/wiki/International_Standard_Recording_Code). Извлечем скрытую в нем информацию. "
   ]
  },
  {
   "cell_type": "code",
   "execution_count": 18,
   "id": "imposed-circulation",
   "metadata": {},
   "outputs": [],
   "source": [
    "def get_country_code(x: Union[str, float]) -> Union[str, float]:\n",
    "    if isinstance(x, str):\n",
    "        return x[:2]\n",
    "\n",
    "    return np.nan\n",
    "\n",
    "\n",
    "def get_year(x: Union[str, float]) -> float:\n",
    "    if isinstance(x, str):\n",
    "        year = int(x[5:7])\n",
    "        if year > 17:\n",
    "            return 1900 + year\n",
    "        return 2000 + year\n",
    "\n",
    "    return np.nan"
   ]
  },
  {
   "cell_type": "code",
   "execution_count": 19,
   "id": "transparent-speaker",
   "metadata": {},
   "outputs": [],
   "source": [
    "song_extra_info[\"song_contry\"] = song_extra_info[\"isrc\"].apply(get_country_code)\n",
    "song_extra_info['song_year'] = song_extra_info['isrc'].apply(get_year)"
   ]
  },
  {
   "cell_type": "markdown",
   "id": "tribal-gamma",
   "metadata": {},
   "source": [
    "Присоединим `song_extra_info` к `train`."
   ]
  },
  {
   "cell_type": "code",
   "execution_count": 20,
   "id": "cathedral-correspondence",
   "metadata": {},
   "outputs": [],
   "source": [
    "train = train.merge(song_extra_info, on=\"song_id\", how=\"left\")"
   ]
  },
  {
   "cell_type": "markdown",
   "id": "coupled-filename",
   "metadata": {},
   "source": [
    "## Фичи счетчики\n",
    "\n",
    "- число прослушанных песен\n",
    "- популярность жанра\n",
    "- популярность артиста"
   ]
  },
  {
   "cell_type": "code",
   "execution_count": 21,
   "id": "fewer-wrestling",
   "metadata": {},
   "outputs": [],
   "source": [
    "user_song = {k: v for k, v in train[\"msno\"].value_counts().iteritems()}\n",
    "genre_count = {k: v for k, v in train[\"genre_ids\"].value_counts().iteritems()}\n",
    "artist_count = {k: v for k, v in train[\"artist_name\"].value_counts().iteritems()}\n",
    "\n",
    "train[\"activity\"] = train[\"msno\"].apply(lambda x: user_song.get(x, 0))\n",
    "train[\"genre_popularity\"] = train[\"genre_ids\"].apply(lambda x: genre_count.get(x, 0))\n",
    "train[\"artist_popularity\"] = train[\"artist_name\"].apply(lambda x: artist_count.get(x, 0))"
   ]
  },
  {
   "cell_type": "code",
   "execution_count": 22,
   "id": "willing-sussex",
   "metadata": {},
   "outputs": [
    {
     "data": {
      "text/plain": [
       "msno                   object\n",
       "song_id                object\n",
       "source_system_tab      object\n",
       "source_screen_name     object\n",
       "source_type            object\n",
       "target                  int64\n",
       "song_length           float64\n",
       "genre_ids              object\n",
       "artist_name            object\n",
       "language              float64\n",
       "city                    int64\n",
       "bd                      int64\n",
       "gender                 object\n",
       "registered_via          int64\n",
       "registration_day        int64\n",
       "registration_month      int64\n",
       "registration_year       int64\n",
       "expiration_day          int64\n",
       "expiration_month        int64\n",
       "expiration_year         int64\n",
       "name                   object\n",
       "isrc                   object\n",
       "song_contry            object\n",
       "song_year             float64\n",
       "activity                int64\n",
       "genre_popularity        int64\n",
       "artist_popularity       int64\n",
       "dtype: object"
      ]
     },
     "execution_count": 22,
     "metadata": {},
     "output_type": "execute_result"
    }
   ],
   "source": [
    "train.dtypes"
   ]
  },
  {
   "cell_type": "markdown",
   "id": "searching-garbage",
   "metadata": {},
   "source": [
    "## Сохранение"
   ]
  },
  {
   "cell_type": "code",
   "execution_count": 23,
   "id": "immediate-accounting",
   "metadata": {},
   "outputs": [],
   "source": [
    "categorical_columns = [\"source_system_tab\", \"source_screen_name\", \"source_type\", \n",
    "                       \"genre_ids\", \"artist_name\", \"language\", \"city\", \"gender\",\n",
    "                       \"registered_via\", \"name\", \"isrc\", \"song_contry\"]\n",
    "\n",
    "for column in categorical_columns:\n",
    "    train[column] = train[column].astype(\"category\")"
   ]
  },
  {
   "cell_type": "code",
   "execution_count": 24,
   "id": "similar-chemistry",
   "metadata": {},
   "outputs": [],
   "source": [
    "train.to_csv(\"part_1.csv\", index=False)"
   ]
  },
  {
   "cell_type": "markdown",
   "id": "controlling-bradley",
   "metadata": {},
   "source": [
    "# Обучение GBDT"
   ]
  },
  {
   "cell_type": "code",
   "execution_count": 52,
   "id": "civilian-drilling",
   "metadata": {},
   "outputs": [],
   "source": [
    "X, y = train.drop(columns=[\"msno\", \"song_id\", \"target\"]), train[\"target\"]"
   ]
  },
  {
   "cell_type": "code",
   "execution_count": 26,
   "id": "independent-tracker",
   "metadata": {},
   "outputs": [],
   "source": [
    "X_train, X_val, y_train, y_val = train_test_split(X, y, test_size=0.2, random_state=1)"
   ]
  },
  {
   "cell_type": "code",
   "execution_count": 27,
   "id": "motivated-restriction",
   "metadata": {},
   "outputs": [],
   "source": [
    "def create_model():\n",
    "    return LGBMClassifier(\n",
    "        num_leaves=30,\n",
    "        max_depth=7,\n",
    "        learning_rate=0.5,\n",
    "        n_estimators=300,\n",
    "        min_split_gain=1e-2,\n",
    "        min_child_weight=2,\n",
    "        subsample=9e-1,\n",
    "        colsample_bytree=8e-1,\n",
    "        reg_alpha=3e-1,\n",
    "        reg_lambda=1e-1,\n",
    "        verbose=-1\n",
    "    )"
   ]
  },
  {
   "cell_type": "code",
   "execution_count": 28,
   "id": "african-plumbing",
   "metadata": {},
   "outputs": [],
   "source": [
    "def test(clf, encoder):\n",
    "    X_train_transformed = encoder.fit_transform(X_train, y_train)\n",
    "    X_val_transformed = encoder.transform(X_val)\n",
    "    \n",
    "    clf.fit(X=X_train_transformed, y=y_train, \n",
    "            eval_set=[(X_train_transformed, y_train), (X_val_transformed, y_val)], \n",
    "            early_stopping_rounds=30, verbose=-1)\n",
    "    \n",
    "    y_pred = clf.predict_proba(X_val_transformed)[:, 1]\n",
    "    \n",
    "    print(f\"ROC-AUC: {roc_auc_score(y_val, y_pred)}\")"
   ]
  },
  {
   "cell_type": "code",
   "execution_count": 29,
   "id": "employed-figure",
   "metadata": {},
   "outputs": [
    {
     "name": "stdout",
     "output_type": "stream",
     "text": [
      "DataFrame shape: (7377418, 24)\n",
      "\tColumn:   source_system_tab, NA ratio: 0.003\n",
      "\tColumn:  source_screen_name, NA ratio: 0.056\n",
      "\tColumn:         source_type, NA ratio: 0.003\n",
      "\tColumn:         song_length, NA ratio: 0.0\n",
      "\tColumn:           genre_ids, NA ratio: 0.016\n",
      "\tColumn:         artist_name, NA ratio: 0.0\n",
      "\tColumn:            language, NA ratio: 0.0\n",
      "\tColumn:                city, NA ratio: 0.0\n",
      "\tColumn:                  bd, NA ratio: 0.0\n",
      "\tColumn:              gender, NA ratio: 0.0\n",
      "\tColumn:      registered_via, NA ratio: 0.0\n",
      "\tColumn:    registration_day, NA ratio: 0.0\n",
      "\tColumn:  registration_month, NA ratio: 0.0\n",
      "\tColumn:   registration_year, NA ratio: 0.0\n",
      "\tColumn:      expiration_day, NA ratio: 0.0\n",
      "\tColumn:    expiration_month, NA ratio: 0.0\n",
      "\tColumn:     expiration_year, NA ratio: 0.0\n",
      "\tColumn:                name, NA ratio: 0.0\n",
      "\tColumn:                isrc, NA ratio: 0.078\n",
      "\tColumn:         song_contry, NA ratio: 0.078\n",
      "\tColumn:           song_year, NA ratio: 0.078\n",
      "\tColumn:            activity, NA ratio: 0.0\n",
      "\tColumn:    genre_popularity, NA ratio: 0.0\n",
      "\tColumn:   artist_popularity, NA ratio: 0.0\n"
     ]
    }
   ],
   "source": [
    "print_stat(X)"
   ]
  },
  {
   "cell_type": "markdown",
   "id": "running-logistics",
   "metadata": {},
   "source": [
    "## Encoders\n",
    "\n",
    "Протестируем различные `encoders`."
   ]
  },
  {
   "cell_type": "code",
   "execution_count": 30,
   "id": "floppy-profit",
   "metadata": {},
   "outputs": [],
   "source": [
    "catboost_encoder = ce.CatBoostEncoder(cols=categorical_columns)\n",
    "ordinal_encoder = ce.OrdinalEncoder(cols=categorical_columns)\n",
    "james_encoder = ce.JamesSteinEncoder(cols=categorical_columns)"
   ]
  },
  {
   "cell_type": "code",
   "execution_count": 31,
   "id": "mature-preserve",
   "metadata": {},
   "outputs": [
    {
     "name": "stdout",
     "output_type": "stream",
     "text": [
      "Training until validation scores don't improve for 30 rounds\n",
      "Did not meet early stopping. Best iteration is:\n",
      "[300]\ttraining's binary_logloss: 0.592151\tvalid_1's binary_logloss: 0.594582\n",
      "ROC-AUC: 0.7466239985499898\n"
     ]
    }
   ],
   "source": [
    "test(create_model(), catboost_encoder)"
   ]
  },
  {
   "cell_type": "code",
   "execution_count": 32,
   "id": "failing-diagnosis",
   "metadata": {},
   "outputs": [
    {
     "name": "stdout",
     "output_type": "stream",
     "text": [
      "Training until validation scores don't improve for 30 rounds\n",
      "Did not meet early stopping. Best iteration is:\n",
      "[300]\ttraining's binary_logloss: 0.592321\tvalid_1's binary_logloss: 0.596168\n",
      "ROC-AUC: 0.7448290894029963\n"
     ]
    }
   ],
   "source": [
    "test(create_model(), ordinal_encoder)"
   ]
  },
  {
   "cell_type": "code",
   "execution_count": 33,
   "id": "aerial-integral",
   "metadata": {},
   "outputs": [
    {
     "name": "stdout",
     "output_type": "stream",
     "text": [
      "Training until validation scores don't improve for 30 rounds\n",
      "Early stopping, best iteration is:\n",
      "[3]\ttraining's binary_logloss: 0.613951\tvalid_1's binary_logloss: 0.642567\n",
      "ROC-AUC: 0.6846330172289958\n"
     ]
    }
   ],
   "source": [
    "test(create_model(), james_encoder)"
   ]
  },
  {
   "cell_type": "markdown",
   "id": "exterior-generic",
   "metadata": {},
   "source": [
    "Выберем `catboost_encoder`, так как с ним получились самые лучшие результаты."
   ]
  },
  {
   "cell_type": "markdown",
   "id": "compressed-netherlands",
   "metadata": {},
   "source": [
    "## Подбор параметров\n",
    "\n",
    "Используя `catboost_encoder`, подберем параметры. [Тут](https://optuna.readthedocs.io/en/stable/reference/generated/optuna.study.create_study.html#optuna.study.create_study) про `optuna`. Я порезал полотно вывода подбора параметров. Главное, что нужно знать: параметры, которые мы ищем, лежат в `study.best_params`."
   ]
  },
  {
   "cell_type": "code",
   "execution_count": 34,
   "id": "arranged-virgin",
   "metadata": {},
   "outputs": [
    {
     "name": "stdout",
     "output_type": "stream",
     "text": [
      "[100]\ttraining's auc: 0.750508\tvalid_1's auc: 0.745674\n",
      "[100]\ttraining's auc: 0.728977\tvalid_1's auc: 0.72797\n",
      "[100]\ttraining's auc: 0.770159\tvalid_1's auc: 0.764055\n",
      "[100]\ttraining's auc: 0.750879\tvalid_1's auc: 0.747977\n",
      "[100]\ttraining's auc: 0.759027\tvalid_1's auc: 0.754038\n"
     ]
    }
   ],
   "source": [
    "X_train, X_val, y_train, y_val = train_test_split(X, y, test_size=0.2, random_state=1)\n",
    "\n",
    "X_train_transformed = catboost_encoder.fit_transform(X_train, y_train)\n",
    "X_val_transformed = catboost_encoder.transform(X_val)\n",
    "\n",
    "lgb_train = lgb.Dataset(X_train_transformed, y_train)\n",
    "lgb_val = lgb.Dataset(X_val_transformed, y_val)\n",
    "\n",
    "def objective(trial):\n",
    "    params = {\n",
    "        \"num_leaves\": 256,\n",
    "        \"objective\": \"binary\",\n",
    "        \"metric\": \"auc\",\n",
    "        \"learning_rate\": trial.suggest_float(\"learning_rate\", 0.1, 0.3, step = 0.01),\n",
    "        \"max_depth\": trial.suggest_int(\"max_depth\", 3, 12),\n",
    "        \"lambda_l1\": trial.suggest_float(\"lambda_l1\", 0, 5, step = 0.1),\n",
    "        \"lambda_l2\": trial.suggest_float('lambda_l2', 0, 5, step = 0.1),\n",
    "        \"verbosity\": -1,\n",
    "        \"seed\": 1\n",
    "    }\n",
    "    \n",
    "    evals_result = {}\n",
    "    \n",
    "    lgb.train(params, \n",
    "              train_set=lgb_train,\n",
    "              num_boost_round=100, \n",
    "              valid_sets = [lgb_train, lgb_val], \n",
    "              verbose_eval = 100,\n",
    "              evals_result=evals_result)\n",
    "    \n",
    "    return np.max(evals_result[\"valid_1\"][\"auc\"])\n",
    "\n",
    "study = optuna.create_study(direction=\"maximize\")\n",
    "study.optimize(objective, n_trials=5)"
   ]
  },
  {
   "cell_type": "markdown",
   "id": "recorded-trout",
   "metadata": {},
   "source": [
    "Лучший результат получился при параметрах `study.best_params`. Во всех дальнейших экспериментах будем использовать их."
   ]
  },
  {
   "cell_type": "code",
   "execution_count": 35,
   "id": "strange-identity",
   "metadata": {},
   "outputs": [
    {
     "data": {
      "text/plain": [
       "{'learning_rate': 0.27, 'max_depth': 12, 'lambda_l1': 3.0, 'lambda_l2': 0.8}"
      ]
     },
     "execution_count": 35,
     "metadata": {},
     "output_type": "execute_result"
    }
   ],
   "source": [
    "study.best_params"
   ]
  },
  {
   "cell_type": "markdown",
   "id": "actual-fiction",
   "metadata": {},
   "source": [
    "Запомним лучшие параметры."
   ]
  },
  {
   "cell_type": "code",
   "execution_count": 36,
   "id": "grateful-charleston",
   "metadata": {},
   "outputs": [],
   "source": [
    "best_params = study.best_params\n",
    "best_params[\"objective\"] = \"binary\"\n",
    "best_params[\"num_leaves\"] = 256\n",
    "best_params[\"metric\"] = \"auc\"\n",
    "best_params[\"verbose\"] = -1"
   ]
  },
  {
   "cell_type": "code",
   "execution_count": 37,
   "id": "former-topic",
   "metadata": {},
   "outputs": [],
   "source": [
    "def plot_feature_importance(model):\n",
    "    feature_importance = pd.DataFrame()\n",
    "    feature_importance[\"feature\"] = X_train_transformed.columns\n",
    "    feature_importance[\"split\"] = model.feature_importance(importance_type=\"split\")\n",
    "    feature_importance = feature_importance.sort_values(by=\"split\", ascending=False)\n",
    "    \n",
    "    fig, ax = plt.subplots()\n",
    "    ax.barh(feature_importance[\"feature\"], feature_importance[\"split\"], align='center')\n",
    "    plt.tight_layout()\n",
    "    plt.show() "
   ]
  },
  {
   "cell_type": "code",
   "execution_count": 38,
   "id": "worldwide-immune",
   "metadata": {},
   "outputs": [],
   "source": [
    "def train_lgb(X_train, X_val, y_train, y_val, params):\n",
    "    lgb_train = lgb.Dataset(X_train, y_train)\n",
    "    lgb_val = lgb.Dataset(X_val, y_val)\n",
    "\n",
    "    model = lgb.train(params, \n",
    "                      train_set=lgb_train, \n",
    "                      num_boost_round=100, \n",
    "                      verbose_eval=50,\n",
    "                      valid_sets=[lgb_train, lgb_val])\n",
    "    \n",
    "    return model"
   ]
  },
  {
   "cell_type": "code",
   "execution_count": 39,
   "id": "insured-plate",
   "metadata": {},
   "outputs": [
    {
     "name": "stdout",
     "output_type": "stream",
     "text": [
      "[50]\ttraining's auc: 0.748465\tvalid_1's auc: 0.746104\n",
      "[100]\ttraining's auc: 0.76707\tvalid_1's auc: 0.761218\n"
     ]
    }
   ],
   "source": [
    "model = train_lgb(X_train_transformed, X_val_transformed, y_train, y_val, best_params)"
   ]
  },
  {
   "cell_type": "code",
   "execution_count": 40,
   "id": "forty-phrase",
   "metadata": {},
   "outputs": [
    {
     "data": {
      "image/png": "[encoded data removed]",
      "text/plain": [
       "<Figure size 576x396 with 1 Axes>"
      ]
     },
     "metadata": {
      "image/png": {
       "height": 389,
       "width": 568
      }
     },
     "output_type": "display_data"
    }
   ],
   "source": [
    "plot_feature_importance(model)"
   ]
  },
  {
   "cell_type": "code",
   "execution_count": 41,
   "id": "ultimate-ballot",
   "metadata": {},
   "outputs": [],
   "source": [
    "drop_01 = [\"genre_popularity\", \"song_length\", \"expiration_year\", \"name\"]"
   ]
  },
  {
   "cell_type": "code",
   "execution_count": 42,
   "id": "proper-party",
   "metadata": {},
   "outputs": [
    {
     "name": "stdout",
     "output_type": "stream",
     "text": [
      "[50]\ttraining's auc: 0.750001\tvalid_1's auc: 0.747673\n",
      "[100]\ttraining's auc: 0.769513\tvalid_1's auc: 0.763665\n"
     ]
    }
   ],
   "source": [
    "model = train_lgb(X_train_transformed.drop(drop_01, axis=1),\n",
    "                  X_val_transformed.drop(drop_01, axis=1),\n",
    "                  y_train, y_val, best_params)"
   ]
  },
  {
   "cell_type": "markdown",
   "id": "straight-mongolia",
   "metadata": {},
   "source": [
    "Качество осталось на прежнем уровне (даже немного выросло), используем меньше фичей."
   ]
  },
  {
   "cell_type": "markdown",
   "id": "warming-recorder",
   "metadata": {},
   "source": [
    "## SHAP"
   ]
  },
  {
   "cell_type": "markdown",
   "id": "impressed-chester",
   "metadata": {},
   "source": [
    "Пробовал делать `SHAP`, ноуту было тяжело, отказался от этой идеи."
   ]
  },
  {
   "cell_type": "code",
   "execution_count": 44,
   "id": "ignored-drilling",
   "metadata": {},
   "outputs": [
    {
     "name": "stdout",
     "output_type": "stream",
     "text": [
      "[50]\ttraining's auc: 0.748539\tvalid_1's auc: 0.746867\n",
      "[100]\ttraining's auc: 0.768971\tvalid_1's auc: 0.764772\n"
     ]
    }
   ],
   "source": [
    "X_train, X_test, y_train, y_test = train_test_split(X, y, test_size=0.05, random_state=1)\n",
    "\n",
    "X_train_transformed = catboost_encoder.fit_transform(X_train, y_train)\n",
    "X_test_transformed = catboost_encoder.transform(X_test)\n",
    "\n",
    "model = train_lgb(X_train_transformed, X_test_transformed, y_train, y_test, best_params)"
   ]
  },
  {
   "cell_type": "code",
   "execution_count": 45,
   "id": "elect-burns",
   "metadata": {},
   "outputs": [
    {
     "data": {
      "image/png": "[encoded data removed]",
      "text/plain": [
       "<Figure size 576x684 with 1 Axes>"
      ]
     },
     "metadata": {
      "image/png": {
       "height": 563,
       "width": 593
      }
     },
     "output_type": "display_data"
    },
    {
     "name": "stdout",
     "output_type": "stream",
     "text": [
      "CPU times: user 2h 57min 12s, sys: 10.6 s, total: 2h 57min 23s\n",
      "Wall time: 22min 48s\n"
     ]
    }
   ],
   "source": [
    "%%time\n",
    "shap_values = shap.TreeExplainer(model).shap_values(X_test_transformed)\n",
    "shap.summary_plot(shap_values, X_test_transformed)"
   ]
  },
  {
   "cell_type": "markdown",
   "id": "authorized-anniversary",
   "metadata": {},
   "source": [
    "Попробуем обучить без части фичей."
   ]
  },
  {
   "cell_type": "code",
   "execution_count": 46,
   "id": "historic-mistake",
   "metadata": {},
   "outputs": [],
   "source": [
    "drop_shap = [\"language\", \"gender\", \"expiration_year\", \"city\"]"
   ]
  },
  {
   "cell_type": "code",
   "execution_count": 47,
   "id": "oriental-rainbow",
   "metadata": {},
   "outputs": [],
   "source": [
    "X_train, X_val, y_train, y_val = train_test_split(X, y, test_size=0.2, random_state=1)\n",
    "\n",
    "X_train_transformed = catboost_encoder.fit_transform(X_train, y_train)\n",
    "X_val_transformed = catboost_encoder.transform(X_val)"
   ]
  },
  {
   "cell_type": "code",
   "execution_count": 48,
   "id": "inclusive-circle",
   "metadata": {},
   "outputs": [
    {
     "name": "stdout",
     "output_type": "stream",
     "text": [
      "[50]\ttraining's auc: 0.748156\tvalid_1's auc: 0.746053\n",
      "[100]\ttraining's auc: 0.76695\tvalid_1's auc: 0.761476\n"
     ]
    }
   ],
   "source": [
    "model = train_lgb(X_train_transformed.drop(drop_shap, axis=1),\n",
    "                  X_val_transformed.drop(drop_shap, axis=1),\n",
    "                  y_train, y_val, best_params)"
   ]
  },
  {
   "cell_type": "markdown",
   "id": "geological-england",
   "metadata": {},
   "source": [
    "Качество немножко улучшилось. Выкидывать фичи не будем."
   ]
  },
  {
   "cell_type": "markdown",
   "id": "controlling-hampshire",
   "metadata": {},
   "source": [
    "## K-Fold evaluation"
   ]
  },
  {
   "cell_type": "code",
   "execution_count": 53,
   "id": "severe-cocktail",
   "metadata": {},
   "outputs": [],
   "source": [
    "def k_fold_evaluation(X: pd.DataFrame, y: pd.DataFrame, params,\n",
    "                      k: int = 5, split_type: str = \"simple\"):\n",
    "    skf = StratifiedKFold(n_splits=k, shuffle=True)\n",
    "    kf = KFold(n_splits=k)\n",
    "    \n",
    "    if split_type == \"simple\":\n",
    "        split = kf.split(X)\n",
    "    elif split_type == \"by_y\":\n",
    "        split = skf.split(X, y)\n",
    "    elif split_type == \"by_user\":\n",
    "        split = skf.split(X, train['msno'])\n",
    "    else:\n",
    "        raise ValueError\n",
    "        \n",
    "    start, end = '\\033[92m', '\\033[0m'\n",
    "        \n",
    "    roc_aucs = []\n",
    "    for i, (train_index, test_index) in enumerate(split):\n",
    "        X_train, y_train = X.iloc[train_index], y.iloc[train_index]\n",
    "        \n",
    "        X_train, X_val, y_train, y_val = train_test_split(X_train, y_train, test_size=0.2,\n",
    "                                                           random_state=1)\n",
    "        X_test, y_test = X.iloc[test_index], y.iloc[test_index]\n",
    "        \n",
    "        lgb_train = lgb.Dataset(X_train, y_train, params={'verbose': -1})\n",
    "        lgb_val = lgb.Dataset(X_val, y_val, params={'verbose': -1})\n",
    "\n",
    "        model = lgb.train(params, \n",
    "                          train_set=lgb_train, \n",
    "                          num_boost_round=100, \n",
    "                          verbose_eval=-1,\n",
    "                          valid_sets=[lgb_train, lgb_val])\n",
    "        \n",
    "        roc_auc = roc_auc_score(y_test, model.predict(X_test))\n",
    "        \n",
    "        print(f\"Fold {i + 1:>2}, ROC-AUC: {round(roc_auc, 5)}\")\n",
    "        roc_aucs.append(roc_auc)\n",
    "        \n",
    "    print(f\"{start}Mean AUC_ROC: {np.mean(roc_aucs):.3f} with {k} folds{end}\")"
   ]
  },
  {
   "cell_type": "code",
   "execution_count": 54,
   "id": "eight-monaco",
   "metadata": {},
   "outputs": [],
   "source": [
    "X_train_transformed = catboost_encoder.fit_transform(X, y)"
   ]
  },
  {
   "cell_type": "markdown",
   "id": "finished-wells",
   "metadata": {},
   "source": [
    "Попробуем разные разбиения."
   ]
  },
  {
   "cell_type": "code",
   "execution_count": 55,
   "id": "interpreted-nelson",
   "metadata": {},
   "outputs": [
    {
     "name": "stdout",
     "output_type": "stream",
     "text": [
      "Fold  1, ROC-AUC: 0.74645\n",
      "Fold  2, ROC-AUC: 0.72895\n",
      "Fold  3, ROC-AUC: 0.70667\n",
      "Fold  4, ROC-AUC: 0.69002\n",
      "Fold  5, ROC-AUC: 0.65537\n",
      "\u001b[92mMean AUC_ROC: 0.705 with 5 folds\u001b[0m\n"
     ]
    }
   ],
   "source": [
    "k_fold_evaluation(X_train_transformed, y, best_params)"
   ]
  },
  {
   "cell_type": "code",
   "execution_count": 56,
   "id": "objective-click",
   "metadata": {},
   "outputs": [
    {
     "name": "stdout",
     "output_type": "stream",
     "text": [
      "Fold  1, ROC-AUC: 0.77419\n",
      "Fold  2, ROC-AUC: 0.77448\n",
      "Fold  3, ROC-AUC: 0.77439\n",
      "Fold  4, ROC-AUC: 0.77155\n",
      "Fold  5, ROC-AUC: 0.77399\n",
      "\u001b[92mMean AUC_ROC: 0.774 with 5 folds\u001b[0m\n"
     ]
    }
   ],
   "source": [
    "k_fold_evaluation(X_train_transformed, y, best_params, split_type=\"by_y\")"
   ]
  },
  {
   "cell_type": "code",
   "execution_count": 57,
   "id": "conventional-fireplace",
   "metadata": {},
   "outputs": [
    {
     "name": "stdout",
     "output_type": "stream",
     "text": [
      "Fold  1, ROC-AUC: 0.77426\n",
      "Fold  2, ROC-AUC: 0.77313\n",
      "Fold  3, ROC-AUC: 0.77476\n",
      "Fold  4, ROC-AUC: 0.77439\n",
      "Fold  5, ROC-AUC: 0.77538\n",
      "\u001b[92mMean AUC_ROC: 0.774 with 5 folds\u001b[0m\n"
     ]
    }
   ],
   "source": [
    "k_fold_evaluation(X_train_transformed, y, best_params, split_type=\"by_user\")"
   ]
  },
  {
   "cell_type": "markdown",
   "id": "primary-uncle",
   "metadata": {},
   "source": [
    "# Построение эмбеддингов"
   ]
  },
  {
   "cell_type": "code",
   "execution_count": 58,
   "id": "fixed-plain",
   "metadata": {},
   "outputs": [],
   "source": [
    "train = pd.read_csv(os.path.join(data_path, \"train.csv\"))\n",
    "songs = pd.read_csv(os.path.join(data_path, \"songs.csv\"))\n",
    "song_extra_info = pd.read_csv(os.path.join(data_path, \"song_extra_info.csv\"))"
   ]
  },
  {
   "cell_type": "code",
   "execution_count": 59,
   "id": "level-positive",
   "metadata": {},
   "outputs": [],
   "source": [
    "train = train.loc[:, [\"msno\", \"song_id\", \"target\"]]"
   ]
  },
  {
   "cell_type": "code",
   "execution_count": 60,
   "id": "crazy-suffering",
   "metadata": {},
   "outputs": [],
   "source": [
    "songs = songs.merge(song_extra_info, on=\"song_id\", how=\"left\")"
   ]
  },
  {
   "cell_type": "code",
   "execution_count": 61,
   "id": "overall-theater",
   "metadata": {},
   "outputs": [],
   "source": [
    "def join_names(x):\n",
    "    return str(x[\"artist_name\"]) + ' ' + str(x[\"name\"])\n",
    "\n",
    "\n",
    "songs[\"artist_song\"] = songs[[\"artist_name\", \"name\"]].apply(lambda x: join_names(x), axis=1)\n",
    "songs = songs.loc[:, [\"song_id\", \"artist_song\"]]"
   ]
  },
  {
   "cell_type": "code",
   "execution_count": 62,
   "id": "placed-beauty",
   "metadata": {},
   "outputs": [],
   "source": [
    "train = train.merge(songs, on=\"song_id\", how=\"left\")\n",
    "train_cache = deepcopy(train)"
   ]
  },
  {
   "cell_type": "markdown",
   "id": "incorporate-reservation",
   "metadata": {},
   "source": [
    "Рассмотрим те песни, которые слушали."
   ]
  },
  {
   "cell_type": "code",
   "execution_count": 63,
   "id": "medium-refrigerator",
   "metadata": {},
   "outputs": [],
   "source": [
    "mask = train[\"target\"] == 1\n",
    "train = train.loc[mask, [\"msno\", \"artist_song\"]]"
   ]
  },
  {
   "cell_type": "markdown",
   "id": "exposed-external",
   "metadata": {},
   "source": [
    "Если не сделать такую магию кодирования, то на построение корпуса уйдет больше часа. "
   ]
  },
  {
   "cell_type": "code",
   "execution_count": 64,
   "id": "individual-monkey",
   "metadata": {},
   "outputs": [],
   "source": [
    "users = {user: i for i, user in enumerate(train[\"msno\"].unique())}\n",
    "songs = {song: j for j, song in enumerate(train[\"artist_song\"].unique())}\n",
    "\n",
    "train[\"msno\"] = train[\"msno\"].apply(lambda x: users[x])\n",
    "train[\"artist_song\"] = train[\"artist_song\"].apply(lambda x: songs[x])"
   ]
  },
  {
   "cell_type": "code",
   "execution_count": 65,
   "id": "prime-small",
   "metadata": {},
   "outputs": [
    {
     "name": "stderr",
     "output_type": "stream",
     "text": [
      "100%|████████████████████████████████████| 27113/27113 [04:07<00:00, 109.57it/s]\n"
     ]
    }
   ],
   "source": [
    "X = train.to_numpy()\n",
    "corpus = [[str(x) for x in X[X[:, 0] == user][:, 1]] for user in tqdm(train[\"msno\"].unique())]"
   ]
  },
  {
   "cell_type": "markdown",
   "id": "superior-colonial",
   "metadata": {},
   "source": [
    "Обучим `Word2Vec`."
   ]
  },
  {
   "cell_type": "code",
   "execution_count": 66,
   "id": "macro-bermuda",
   "metadata": {},
   "outputs": [],
   "source": [
    "model = Word2Vec(window=10,\n",
    "                 vector_size=128,\n",
    "                 negative=20,\n",
    "                 min_count=1,\n",
    "                 sg=0,\n",
    "                 workers = multiprocessing.cpu_count())\n",
    "\n",
    "model.build_vocab(corpus)"
   ]
  },
  {
   "cell_type": "code",
   "execution_count": 67,
   "id": "interior-cabin",
   "metadata": {},
   "outputs": [
    {
     "name": "stdout",
     "output_type": "stream",
     "text": [
      "CPU times: user 59min 14s, sys: 14.1 s, total: 59min 28s\n",
      "Wall time: 8min 30s\n"
     ]
    },
    {
     "data": {
      "text/plain": [
       "(371304532, 371465600)"
      ]
     },
     "execution_count": 67,
     "metadata": {},
     "output_type": "execute_result"
    }
   ],
   "source": [
    "%%time\n",
    "model.train(corpus, total_examples=model.corpus_count, epochs=100, report_delay=1)"
   ]
  },
  {
   "cell_type": "code",
   "execution_count": 68,
   "id": "floral-burst",
   "metadata": {},
   "outputs": [],
   "source": [
    "songs_inversed = {j: i for i, j in songs.items()}\n",
    "\n",
    "def get_similars(code: str, num: int = 5):\n",
    "    for sim in model.wv.most_similar(code)[:num]:\n",
    "        print(f\"Score: {sim[1]:.2f}, {songs_inversed[int(sim[0])]}\")"
   ]
  },
  {
   "cell_type": "markdown",
   "id": "timely-formation",
   "metadata": {},
   "source": [
    "Посмотрим на `Eminem`."
   ]
  },
  {
   "cell_type": "code",
   "execution_count": 70,
   "id": "framed-galaxy",
   "metadata": {},
   "outputs": [
    {
     "data": {
      "text/plain": [
       "78824"
      ]
     },
     "execution_count": 70,
     "metadata": {},
     "output_type": "execute_result"
    }
   ],
   "source": [
    "songs['Eminem The Kids']"
   ]
  },
  {
   "cell_type": "code",
   "execution_count": 71,
   "id": "numeric-payday",
   "metadata": {},
   "outputs": [
    {
     "name": "stdout",
     "output_type": "stream",
     "text": [
      "Score: 0.72, Eminem Public Service Announcement 2000\n",
      "Score: 0.71, Eminem Kim\n",
      "Score: 0.71, Eminem Amityville\n",
      "Score: 0.69, Eminem Criminal\n",
      "Score: 0.69, TV & MOVIE SOUNDTRAX Big Girls Don't Cry (From \"Mermaids\")\n"
     ]
    }
   ],
   "source": [
    "get_similars(\"78824\")"
   ]
  },
  {
   "cell_type": "markdown",
   "id": "seeing-boutique",
   "metadata": {},
   "source": [
    "Построим эмбеддинги для пользователей. Просто берем среднее по всем песням, которые слушал пользователь."
   ]
  },
  {
   "cell_type": "code",
   "execution_count": 72,
   "id": "enclosed-fleece",
   "metadata": {},
   "outputs": [],
   "source": [
    "user_embedings = {}\n",
    "for user, i in enumerate(train.msno.unique()):\n",
    "    user_embedings[user] = np.array([model.wv[str(i)] for i in corpus[i]]).mean(axis=0)"
   ]
  },
  {
   "cell_type": "markdown",
   "id": "lasting-volunteer",
   "metadata": {},
   "source": [
    "В качестве нового признака добавим скоры от эмбеддингов."
   ]
  },
  {
   "cell_type": "code",
   "execution_count": 73,
   "id": "relative-craps",
   "metadata": {},
   "outputs": [],
   "source": [
    "scores = []\n",
    "\n",
    "for row in train_cache.loc[:, ['msno', 'artist_song']].to_numpy():\n",
    "    user, song = row\n",
    "    score = 0\n",
    "    \n",
    "    if user in users and song in songs and users[user] in user_embedings and songs[song] in model.wv:\n",
    "        score = np.sum(user_embedings[users[user]] * model.wv[songs[song]])\n",
    "    \n",
    "    scores.append(score)"
   ]
  },
  {
   "cell_type": "code",
   "execution_count": 74,
   "id": "moral-front",
   "metadata": {},
   "outputs": [],
   "source": [
    "train_cache[\"scores\"] = scores"
   ]
  },
  {
   "cell_type": "code",
   "execution_count": 75,
   "id": "outside-birth",
   "metadata": {},
   "outputs": [],
   "source": [
    "train = pd.read_csv('part_1.csv')\n",
    "X, y = train.drop(columns=['target']), train['target']\n",
    "\n",
    "X_train_transformed = catboost_encoder.fit_transform(X, y)\n",
    "\n",
    "part_2 = pd.merge(X_train_transformed, train_cache.drop([\"target\", \"artist_song\"], axis=1),\n",
    "                  how=\"left\", left_on=['msno', 'song_id'], right_on = ['msno', 'song_id'])\n",
    "\n",
    "X = part_2.drop(['msno', 'song_id'], axis=1)"
   ]
  },
  {
   "cell_type": "code",
   "execution_count": 76,
   "id": "global-working",
   "metadata": {},
   "outputs": [
    {
     "name": "stdout",
     "output_type": "stream",
     "text": [
      "Fold  1, ROC-AUC: 0.76008\n",
      "Fold  2, ROC-AUC: 0.74095\n",
      "Fold  3, ROC-AUC: 0.71993\n",
      "Fold  4, ROC-AUC: 0.70424\n",
      "Fold  5, ROC-AUC: 0.67535\n",
      "\u001b[92mMean AUC_ROC: 0.720 with 5 folds\u001b[0m\n"
     ]
    }
   ],
   "source": [
    "k_fold_evaluation(X, y, best_params)"
   ]
  },
  {
   "cell_type": "code",
   "execution_count": 77,
   "id": "tropical-period",
   "metadata": {},
   "outputs": [
    {
     "name": "stdout",
     "output_type": "stream",
     "text": [
      "Fold  1, ROC-AUC: 0.784\n",
      "Fold  2, ROC-AUC: 0.78382\n",
      "Fold  3, ROC-AUC: 0.78531\n",
      "Fold  4, ROC-AUC: 0.7863\n",
      "Fold  5, ROC-AUC: 0.78419\n",
      "\u001b[92mMean AUC_ROC: 0.785 with 5 folds\u001b[0m\n"
     ]
    }
   ],
   "source": [
    "k_fold_evaluation(X, y, best_params, split_type=\"by_y\")"
   ]
  },
  {
   "cell_type": "code",
   "execution_count": 78,
   "id": "romance-reach",
   "metadata": {},
   "outputs": [
    {
     "name": "stdout",
     "output_type": "stream",
     "text": [
      "Fold  1, ROC-AUC: 0.78556\n",
      "Fold  2, ROC-AUC: 0.78243\n",
      "Fold  3, ROC-AUC: 0.78516\n",
      "Fold  4, ROC-AUC: 0.78484\n",
      "Fold  5, ROC-AUC: 0.78505\n",
      "\u001b[92mMean AUC_ROC: 0.785 with 5 folds\u001b[0m\n"
     ]
    }
   ],
   "source": [
    "k_fold_evaluation(X, y, best_params, split_type=\"by_user\")"
   ]
  },
  {
   "cell_type": "markdown",
   "id": "atlantic-dressing",
   "metadata": {},
   "source": [
    "Добавление новых фичей помогло улучшить качество."
   ]
  }
 ],
 "metadata": {
  "kernelspec": {
   "display_name": "Python 3 (ipykernel)",
   "language": "python",
   "name": "python3"
  },
  "language_info": {
   "codemirror_mode": {
    "name": "ipython",
    "version": 3
   },
   "file_extension": ".py",
   "mimetype": "text/x-python",
   "name": "python",
   "nbconvert_exporter": "python",
   "pygments_lexer": "ipython3",
   "version": "3.7.9"
  }
 },
 "nbformat": 4,
 "nbformat_minor": 5
}
